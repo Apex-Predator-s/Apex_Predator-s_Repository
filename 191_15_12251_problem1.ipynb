{
  "nbformat": 4,
  "nbformat_minor": 0,
  "metadata": {
    "colab": {
      "name": "191-15-12251-problem1.ipynb",
      "provenance": []
    },
    "kernelspec": {
      "name": "python3",
      "display_name": "Python 3"
    },
    "language_info": {
      "name": "python"
    }
  },
  "cells": [
    {
      "cell_type": "markdown",
      "metadata": {
        "id": "CmQs0AOG4sjY"
      },
      "source": [
        "## **Importing libraries**"
      ]
    },
    {
      "cell_type": "code",
      "metadata": {
        "id": "Zw8vUx2SkxC4"
      },
      "source": [
        "import numpy as np\n",
        "import matplotlib.pyplot as plt  # For graph\n",
        "import pandas as pd"
      ],
      "execution_count": 31,
      "outputs": []
    },
    {
      "cell_type": "markdown",
      "metadata": {
        "id": "wHduTWw-42Id"
      },
      "source": [
        "## **Importing dataset and divide in independent variable x and dependent variable y**"
      ]
    },
    {
      "cell_type": "code",
      "metadata": {
        "colab": {
          "resources": {
            "http://localhost:8080/nbextensions/google.colab/files.js": {
              "data": "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",
              "ok": true,
              "headers": [
                [
                  "content-type",
                  "application/javascript"
                ]
              ],
              "status": 200,
              "status_text": ""
            }
          },
          "base_uri": "https://localhost:8080/",
          "height": 276
        },
        "id": "pgsHNNWlk7AR",
        "outputId": "fd141581-57b2-45b0-ddad-f181665c75d1"
      },
      "source": [
        "from google.colab import files\n",
        "uploaded = files.upload()\n",
        "dataset = pd.read_csv('insurance.csv')\n",
        "x = dataset.iloc[:, [0,1,5]].values\n",
        "y = dataset.iloc[:, -1].values\n",
        "\n",
        "print(\"X dataset: \\n\\n\", x)\n",
        "print(\"Y dataset: \\n\\n\", y)\n"
      ],
      "execution_count": 32,
      "outputs": [
        {
          "output_type": "display_data",
          "data": {
            "text/html": [
              "\n",
              "     <input type=\"file\" id=\"files-891708d1-31ff-41dc-a044-9afda618d58d\" name=\"files[]\" multiple disabled\n",
              "        style=\"border:none\" />\n",
              "     <output id=\"result-891708d1-31ff-41dc-a044-9afda618d58d\">\n",
              "      Upload widget is only available when the cell has been executed in the\n",
              "      current browser session. Please rerun this cell to enable.\n",
              "      </output>\n",
              "      <script src=\"/nbextensions/google.colab/files.js\"></script> "
            ],
            "text/plain": [
              "<IPython.core.display.HTML object>"
            ]
          },
          "metadata": {
            "tags": []
          }
        },
        {
          "output_type": "stream",
          "text": [
            "Saving insurance.csv to insurance (1).csv\n",
            "X dataset: \n",
            "\n",
            " [[19 'female' 'southwest']\n",
            " [18 'male' 'southeast']\n",
            " [28 'male' 'southeast']\n",
            " ...\n",
            " [18 'female' 'southeast']\n",
            " [21 'female' 'southwest']\n",
            " [61 'female' 'northwest']]\n",
            "Y dataset: \n",
            "\n",
            " [16884.924   1725.5523  4449.462  ...  1629.8335  2007.945  29141.3603]\n"
          ],
          "name": "stdout"
        }
      ]
    },
    {
      "cell_type": "markdown",
      "metadata": {
        "id": "vKbeq7Dhs-kx"
      },
      "source": [
        "## **There is no missing data found in the dataset.**"
      ]
    },
    {
      "cell_type": "markdown",
      "metadata": {
        "id": "67SNfZtB5VI_"
      },
      "source": [
        "## **Encoding for categorical data for independent variable**"
      ]
    },
    {
      "cell_type": "code",
      "metadata": {
        "id": "B5EuQskXm1dM"
      },
      "source": [
        "from sklearn.compose import ColumnTransformer\n",
        "from sklearn.preprocessing import OneHotEncoder\n",
        "ct = ColumnTransformer(transformers=[('encoder', OneHotEncoder(sparse=False), [1,2])], remainder='passthrough')\n",
        "x = np.array(ct.fit_transform(x))"
      ],
      "execution_count": 35,
      "outputs": []
    },
    {
      "cell_type": "code",
      "metadata": {
        "colab": {
          "base_uri": "https://localhost:8080/"
        },
        "id": "OBP2FCP9r_Rn",
        "outputId": "f74c9948-91fd-47e5-c31a-acab15e6e1fc"
      },
      "source": [
        "print(x)"
      ],
      "execution_count": 36,
      "outputs": [
        {
          "output_type": "stream",
          "text": [
            "[[1.0 0.0 1.0 ... 0.0 1.0 19]\n",
            " [0.0 1.0 1.0 ... 1.0 0.0 18]\n",
            " [0.0 1.0 1.0 ... 1.0 0.0 28]\n",
            " ...\n",
            " [1.0 0.0 1.0 ... 1.0 0.0 18]\n",
            " [1.0 0.0 1.0 ... 0.0 1.0 21]\n",
            " [1.0 0.0 1.0 ... 0.0 0.0 61]]\n"
          ],
          "name": "stdout"
        }
      ]
    },
    {
      "cell_type": "markdown",
      "metadata": {
        "id": "Xgy9wzwg5h1G"
      },
      "source": [
        "## **Spliting the dataset in Training set and testing set**"
      ]
    },
    {
      "cell_type": "code",
      "metadata": {
        "id": "l2VR91Oh0NMF"
      },
      "source": [
        "from sklearn.model_selection import train_test_split\n",
        "x_train, x_test, y_train, y_test = train_test_split(x, y, test_size = 0.33, random_state = 2)"
      ],
      "execution_count": 37,
      "outputs": []
    },
    {
      "cell_type": "code",
      "metadata": {
        "colab": {
          "base_uri": "https://localhost:8080/"
        },
        "id": "AQlVyEG80jU3",
        "outputId": "19a85f6a-c9b4-415b-d9e7-3e8dc08af578"
      },
      "source": [
        "print(x_train)"
      ],
      "execution_count": 38,
      "outputs": [
        {
          "output_type": "stream",
          "text": [
            "[[1.0 0.0 1.0 ... 0.0 1.0 29]\n",
            " [0.0 1.0 0.0 ... 0.0 0.0 32]\n",
            " [1.0 0.0 1.0 ... 1.0 0.0 44]\n",
            " ...\n",
            " [0.0 1.0 1.0 ... 0.0 1.0 61]\n",
            " [1.0 0.0 1.0 ... 0.0 1.0 51]\n",
            " [1.0 0.0 0.0 ... 0.0 0.0 58]]\n"
          ],
          "name": "stdout"
        }
      ]
    },
    {
      "cell_type": "code",
      "metadata": {
        "colab": {
          "base_uri": "https://localhost:8080/"
        },
        "id": "tVPhpqQL0mXW",
        "outputId": "8af973d9-def5-4844-f635-8ae88071dd10"
      },
      "source": [
        "print(x_test)"
      ],
      "execution_count": 39,
      "outputs": [
        {
          "output_type": "stream",
          "text": [
            "[[0.0 1.0 0.0 ... 0.0 0.0 23]\n",
            " [1.0 0.0 0.0 ... 0.0 0.0 55]\n",
            " [0.0 1.0 0.0 ... 0.0 0.0 50]\n",
            " ...\n",
            " [0.0 1.0 1.0 ... 0.0 1.0 35]\n",
            " [0.0 1.0 1.0 ... 0.0 0.0 59]\n",
            " [1.0 0.0 1.0 ... 0.0 1.0 25]]\n"
          ],
          "name": "stdout"
        }
      ]
    },
    {
      "cell_type": "code",
      "metadata": {
        "colab": {
          "base_uri": "https://localhost:8080/"
        },
        "id": "0qlUhFtD0sI4",
        "outputId": "10adcaa8-4a45-451e-8b84-dc5af39c0456"
      },
      "source": [
        "print(y_train)"
      ],
      "execution_count": 40,
      "outputs": [
        {
          "output_type": "stream",
          "text": [
            "[ 4529.477     4667.60765  48885.13561   5354.07465   8582.3023\n",
            "  2842.76075  28950.4692    1711.0268    4428.88785   8733.22925\n",
            "  3500.6123    4561.1885   24671.66334  14319.031     1242.26\n",
            "  4746.344    46130.5265   44202.6536   36898.73308  15359.1045\n",
            " 30166.61817  16796.41194  14988.432    11082.5772    7050.0213\n",
            "  8527.532    21223.6758   37079.372    37165.1638   23807.2406\n",
            "  2134.9015    9748.9106   12231.6136    6500.2359    1261.859\n",
            "  5708.867     1137.4697   47305.305     1759.338     7228.21565\n",
            "  8604.48365  23401.30575   4435.0942    3994.1778    1737.376\n",
            "  9222.4026    7650.77375  20878.78443   9869.8102    7337.748\n",
            "  1628.4709   18608.262     9541.69555   4438.2634   33307.5508\n",
            " 11735.87905  13887.204     9500.57305   5116.5004   36397.576\n",
            " 34439.8559    3935.1799   10072.05505   8083.9198   11552.904\n",
            "  8932.084    14449.8544    4357.04365   4441.21315   6184.2994\n",
            "  7518.02535  12829.4551    1704.5681    3757.8448    4466.6214\n",
            " 27218.43725   7740.337    35069.37452   1708.0014   25081.76784\n",
            " 14590.63205   8116.26885   2137.6536    3172.018     3056.3881\n",
            "  4058.1161   26467.09737   7726.854     4718.20355  44260.7499\n",
            "  5969.723     6393.60345   1633.9618   27808.7251    8615.3\n",
            "  2473.3341    6610.1097    5976.8311   33471.97189  39727.614\n",
            "  8538.28845   1256.299    42124.5153    4738.2682   21348.706\n",
            " 21659.9301    4337.7352   47896.79135  13607.36875   8302.53565\n",
            "  3378.91      4934.705    15019.76005  14001.2867    5312.16985\n",
            " 33475.81715   8444.474     4463.2051    1615.7667    6555.07035\n",
            "  5261.46945  13844.7972   48824.45     10579.711    24535.69855\n",
            " 11881.9696    2459.7201    5699.8375   10713.644    12629.1656\n",
            " 10435.06525   1629.8335    8827.2099    6985.50695   6334.34355\n",
            " 39983.42595   8556.907    12347.172    10338.9316    3484.331\n",
            " 46661.4424   38415.474     9447.3824    4134.08245  13224.05705\n",
            "  5630.45785  20462.99766  20277.80751   9048.0273    2221.56445\n",
            " 10106.13425   1137.011     2480.9791   37607.5277    2680.9493\n",
            "  3171.6149    3279.86855  11520.09985  24227.33724   8835.26495\n",
            " 12146.971     3877.30425   6593.5083    7986.47525   7323.734819\n",
            " 21098.55405  36021.0112   16069.08475   2566.4707    8547.6913\n",
            "  7201.70085  38245.59327  35585.576     2721.3208   11015.1747\n",
            " 12592.5345   13217.0945   33732.6867   10601.412     6198.7518\n",
            "  3385.39915   5400.9805    1880.487    41949.2441    8124.4084\n",
            "  7222.78625  27533.9129    3866.8552    2974.126     9644.2525\n",
            " 11365.952     4074.4537    2855.43755  38282.7495   16232.847\n",
            "  2201.0971   13012.20865   6289.7549    8823.98575   1977.815\n",
            " 10436.096     9715.841    35595.5898   14455.64405  11090.7178\n",
            "  9880.068    22462.04375   4527.18295   8233.0975   42969.8527\n",
            " 19107.7796    5972.378    32787.45859  11070.535     6059.173\n",
            "  5855.9025   18310.742     5152.134    11881.358    10977.2063\n",
            " 44423.803    21774.32215   1622.1885    5227.98875   7144.86265\n",
            " 12815.44495   9991.03765  11085.5868   41919.097    10601.63225\n",
            " 11741.726     2902.9065    4234.927    11362.755    11554.2236\n",
            "  1526.312     1826.843    11454.0215    6282.235    13880.949\n",
            "  4349.462     1664.9996    3659.346     2128.43105  20296.86345\n",
            " 10107.2206   18806.14547  18955.22017   4889.9995    6112.35295\n",
            " 12646.207    15612.19335   6272.4772   13112.6048    7727.2532\n",
            " 48673.5588    6875.961     7682.67      2727.3951    6940.90985\n",
            " 14474.675     3906.127     4779.6023   14451.83515   2585.269\n",
            " 20773.62775   3161.454    21232.18226  11763.0009   11674.13\n",
            " 12404.8791   25333.33284  47496.49445  11165.41765  11436.73815\n",
            " 10355.641     6653.7886    3046.062     8522.003     3732.6251\n",
            " 21595.38229  41676.0811   26125.67477  11345.519     8823.279\n",
            "  6455.86265   3077.0955    3761.292    10982.5013    6746.7425\n",
            " 30063.58055  12269.68865  12949.1554    1972.95     11253.421\n",
            "  3353.284     5240.765    47269.854     2927.0647    7358.17565\n",
            "  1141.4451   22478.6      38711.        7173.35995   3410.324\n",
            " 10923.9332    2899.48935   5209.57885  11657.7189   37133.8982\n",
            " 26109.32905  12029.2867    4687.797    10594.50155   7162.0122\n",
            " 45710.20785   2102.2647   19144.57652  20781.48892  46255.1125\n",
            "  4992.3764    7639.41745  16776.30405  60021.39897  21984.47061\n",
            "  1917.3184    9504.3103   13143.86485  18804.7524   11272.33139\n",
            " 37465.34375   7345.084     4949.7587    5253.524    10594.2257\n",
            " 15817.9857    9288.0267    2404.7338   12629.8967   25992.82104\n",
            "  3947.4131   11743.299     7633.7206   39556.4945   12235.8392\n",
            " 11856.4115   11987.1682    7624.63      3366.6697    1682.597\n",
            "  6360.9936   10564.8845    5257.50795   9863.4718   36910.60803\n",
            " 17178.6824   23306.547    25309.489     4719.73655   7243.8136\n",
            " 11305.93455  36149.4835    2362.22905   6185.3208    3062.50825\n",
            "  4391.652     6652.5288   42983.4585   36124.5737    6600.20595\n",
            "  8596.8278    8240.5896    3943.5954    6358.77645  14210.53595\n",
            "  6123.5688   40003.33225   2166.732    12032.326     5377.4578\n",
            "  4753.6368    3554.203     6640.54485  10407.08585  11013.7119\n",
            "  8520.026     3443.064    21978.6769    9411.005    13616.3586\n",
            " 34838.873    27322.73386  20234.85475  13352.0998    9140.951\n",
            " 47462.894    39774.2763    4040.55825  14119.62     37742.5757\n",
            " 44400.4064    1261.442    23563.01618   5757.41345   4454.40265\n",
            " 21195.818     1625.43375  13462.52      4058.71245  16455.70785\n",
            "  4762.329     9724.53     41034.2214    3875.7341    2396.0959\n",
            " 23568.272    38126.2465    1980.07      1135.9407   12265.5069\n",
            "  9101.798    12648.7034   11931.12525   9788.8659   16420.49455\n",
            "  2775.19215  13747.87235   7448.40395   4462.7218   29523.1656\n",
            " 30942.1918    2803.69785   9290.1395   10825.2537   12982.8747\n",
            " 19749.38338   1627.28245  17496.306     4646.759     8551.347\n",
            "  6435.6237   20009.63365   4320.41085   9144.565    24869.8368\n",
            "  9583.8933   10560.4917    1632.56445  24915.04626  11244.3769\n",
            " 48970.2476    6128.79745   6858.4796    3704.3545   46113.511\n",
            "  7077.1894    2211.13075   6203.90175  28476.73499  12224.35085\n",
            " 28287.89766   5031.26955  40419.0191    5125.2157   11187.6567\n",
            "  6338.0756   47291.055     8603.8234    2483.736    10141.1362\n",
            " 42303.69215  37701.8768   18259.216     8688.85885   8782.469\n",
            " 42112.2356    8310.83915   5246.047     6186.127    14001.1338\n",
            " 16085.1275    8232.6388   24520.264    25517.11363   7325.0482\n",
            " 10461.9794    5484.4673   14007.222     6664.68595   2020.5523\n",
            " 14133.03775  12495.29085  19539.243    18903.49141   1674.6323\n",
            " 13635.6379   35160.13457   2719.27975  11946.6259    1646.4297\n",
            " 40941.2854   33900.653     2904.088    10965.446     8601.3293\n",
            "  9386.1613   11488.31695  25656.57526   1984.4533    3756.6216\n",
            " 28868.6639   41097.16175   8410.04685   2789.0574   17663.1442\n",
            " 39611.7577   10795.93733   5846.9176    3481.868     2755.02095\n",
            " 15828.82173   8703.456     8457.818     1824.2854    2730.10785\n",
            " 27724.28875  12890.05765   8280.6227    8059.6791   12643.3778\n",
            " 17179.522    21771.3423   19496.71917  17626.23951   8062.764\n",
            " 21082.16      8825.086     3277.161     2217.6012   10370.91255\n",
            "  5989.52365  32548.3405    5383.536     4830.63      5615.369\n",
            "  1877.9294   24393.6224   49577.6624   36197.699     5272.1758\n",
            " 19933.458     1986.9334   36085.219    11394.06555   1744.465\n",
            " 13470.86     44501.3982    8798.593     2709.1119   11658.11505\n",
            "  9058.7303    2155.6815    4151.0287    9193.8385   23241.47453\n",
            "  9875.6804    6373.55735   6837.3687   11326.71487   6710.1919\n",
            "  6748.5912    5836.5204   23082.95533   8269.044     1731.677\n",
            " 22493.65964  18838.70366   9630.397     4883.866     6877.9801\n",
            "  7789.635     8068.185    13919.8229    4402.233    11299.343\n",
            "  2709.24395   7731.4271    5438.7491   20149.3229   45702.02235\n",
            "  7348.142    19214.70553  10600.5483   15161.5344   43254.41795\n",
            "  5649.715    22395.74424   1967.0227    8428.0693   32108.66282\n",
            "  1704.70015   4889.0368   15006.57945  12268.63225   7526.70645\n",
            "  4894.7533    9877.6077    4719.52405  34617.84065  17352.6803\n",
            "  9957.7216    2639.0429   13063.883     4670.64      2331.519\n",
            " 11830.6072    9800.8882    4618.0799    8627.5411   17878.90068\n",
            "  3208.787    13405.3903    3591.48     20177.67113   7345.7266\n",
            " 37829.7242    3693.428     3167.45585   3981.9768    4433.3877\n",
            " 15170.069     9282.4806   11576.13     10085.846    11534.87265\n",
            " 10450.552     5080.096    23887.6627    3766.8838   22412.6485\n",
            " 21677.28345  26140.3603    3597.596     1621.8827   20984.0936\n",
            "  2322.6218    7729.64575   5966.8874   24476.47851   9225.2564\n",
            "  4846.92015   6406.4107   19798.05455   4296.2712    3292.52985\n",
            "  6600.361     3176.2877    1252.407    42211.1382    4922.9159\n",
            " 11837.16     20745.9891   39597.4072   10976.24575   5245.2269\n",
            "  8515.7587    8965.79575  12094.478    18223.4512   29330.98315\n",
            "  5709.1644   14043.4767   13555.0049   46718.16325  34303.1672\n",
            " 17929.30337   4237.12655   4673.3922   13844.506     7196.867\n",
            " 30184.9367   13937.6665    8765.249    39047.285     8605.3615\n",
            " 12557.6053   48173.361    16138.76205   9391.346     9095.06825\n",
            "  1263.249    14358.36437   4133.64165  12333.828    12485.8009\n",
            " 17560.37975  11833.7823    4661.28635   4260.744    39125.33225\n",
            "  7261.741    18218.16139   6250.435     6571.02435  14571.8908\n",
            "  8988.15875   8027.968     1720.3537   11073.176    14711.7438\n",
            "  9283.562     2523.1695   13143.33665   8671.19125  34254.05335\n",
            " 19964.7463    6753.038     1621.3402   13393.756    14382.70905\n",
            "  8413.46305   6079.6715   10736.87075   5012.471    27375.90478\n",
            "  9620.3307   12979.358    14426.07385  17085.2676    1634.5734\n",
            " 11363.2832    1639.5631   30259.99556   4562.8421   12096.6512\n",
            " 10848.1343    1515.3449   13725.47184   1837.2819    1981.5819\n",
            " 26018.95052  17361.7661   12233.828    17128.42608  46889.2612\n",
            "  1842.519    28923.13692  10928.849     5693.4305    4747.0529\n",
            " 13831.1152    3213.62205  38746.3551    7804.1605    2257.47525\n",
            "  3989.841     4340.4409    5469.0066   10806.839     6933.24225\n",
            "  8026.6666   10959.33      4137.5227   10226.2842   12981.3457\n",
            "  5478.0368   11455.28      8162.71625   5385.3379   11737.84884\n",
            " 21880.82      9487.6442   14283.4594    9377.9047   11938.25595\n",
            "  1534.3045   24513.09126  12323.936    39871.7043    3180.5101\n",
            " 16297.846    38709.176    19515.5416   37270.1512    8252.2843\n",
            "  4795.6568    2494.022     9182.17     11411.685    11353.2276\n",
            "  1815.8759   17468.9839    1149.3959    4415.1588    8569.8618\n",
            " 27346.04207   7050.642    19040.876    13129.60345  34806.4677\n",
            "  5325.651     4185.0979   18767.7377   11093.6229    1906.35825\n",
            "  8023.13545  22144.032     4837.5823   24667.419     6414.178\n",
            "  4076.497     2457.502     8968.33      6313.759    22192.43711\n",
            " 14410.9321    8342.90875  28340.18885   3392.9768    7445.918\n",
            "  2205.9808    7133.9025    1875.344    39241.442     4347.02335\n",
            "  5979.731     3987.926    19023.26      7935.29115   2866.091\n",
            " 11884.04858  36837.467     4686.3887   11512.405     6402.29135\n",
            "  5428.7277   51194.55914   1131.5066   18963.17192  12644.589\n",
            "  7046.7222   12105.32     10493.9458   12730.9996   25382.297\n",
            " 13430.265     9301.89355   3925.7582   13041.921    36307.7983\n",
            "  8964.06055   2643.2685    4243.59005   1712.227     2217.46915\n",
            " 20167.33603  28101.33305  11163.568    13204.28565   2527.81865\n",
            "  6770.1925    7512.267     2198.18985   1705.6245    2699.56835\n",
            " 24180.9335   13047.33235  10422.91665   1607.5101    3579.8287\n",
            "  2690.1138    2304.0022   12797.20962  10214.636     7537.1639\n",
            " 10156.7832    7731.85785  10115.00885   3260.199    19361.9988\n",
            "  4571.41305   5266.3656   13974.45555  40932.4295   43943.8761\n",
            " 25678.77845  12638.195    46200.9851    5472.449    10043.249\n",
            "  3227.1211   13224.693     9249.4952   12574.049     9861.025\n",
            " 13019.16105 ]\n"
          ],
          "name": "stdout"
        }
      ]
    },
    {
      "cell_type": "code",
      "metadata": {
        "colab": {
          "base_uri": "https://localhost:8080/"
        },
        "id": "wb4QqjwC0ucF",
        "outputId": "4474ca92-5000-4a58-9711-fb9bb9059f4e"
      },
      "source": [
        "print(y_test)"
      ],
      "execution_count": 41,
      "outputs": [
        {
          "output_type": "stream",
          "text": [
            "[ 2395.17155 11286.5387   9617.66245  1719.4363   8891.1395   5662.225\n",
            " 12609.88702  2196.4732  14254.6082   7209.4918  12222.8983   2219.4451\n",
            " 19444.2658   1121.8739  26392.26029 12925.886    3645.0894   5327.40025\n",
            " 18972.495    2203.47185 11840.77505  2597.779   40182.246   22331.5668\n",
            " 37484.4493  10577.087    3206.49135  8944.1151   3577.999    3176.8159\n",
            "  5397.6167   3956.07145  4931.647    4239.89265 14478.33015  1631.6683\n",
            " 38792.6856  20420.60465 35147.52848 27000.98473  2117.33885 34472.841\n",
            "  7419.4779   2007.945    6781.3542   5375.038   10264.4421   3471.4096\n",
            "  4266.1658  20630.28351  4915.05985  1242.816   17748.5062  43921.1837\n",
            "  6496.886   11538.421    1969.614    7160.3303   2154.361   40273.6455\n",
            " 14349.8544   2103.08     2850.68375 42560.4304   1241.565   11944.59435\n",
            " 21797.0004   1880.07    13457.9608   7443.64305 10704.47    36580.28216\n",
            " 30284.64294  6571.544   12741.16745  9872.701    2020.177    1909.52745\n",
            "  2498.4144  12622.1795  10791.96     9964.06     1163.4627  17942.106\n",
            " 10807.4863   3736.4647  46599.1084  12523.6048   9361.3268   5124.1887\n",
            "  9778.3472  13822.803   10702.6424  29186.48236  4564.19145 16450.8947\n",
            "  2136.88225  8283.6807   4544.2348  19350.3689   3393.35635  1391.5287\n",
            "  4766.022   13470.8044   5373.36425 12957.118    6986.697    3972.9247\n",
            " 13228.84695 24106.91255  2801.2588  13451.122   15518.18025 11396.9002\n",
            "  2200.83085 13415.0381   6775.961   19673.33573 11842.442   34672.1472\n",
            "  7147.105    7045.499    9549.5651  31620.00106  3238.4357  16115.3045\n",
            " 26926.5144  10118.424    8017.06115  5138.2567   9566.9909   2250.8352\n",
            "  1748.774    3537.703    7281.5056   5594.8455   2689.4954  36219.40545\n",
            " 41661.602    4032.2407  34828.654   24059.68019  3556.9223   9304.7019\n",
            "  5488.262   43896.3763   7265.7025   9174.13565  7421.19455  1964.78\n",
            "  4149.736    4504.6624   1631.8212   9850.432   10231.4999  13887.9685\n",
            "  3857.75925 18648.4217   3353.4703  11658.37915 14901.5167  12928.7911\n",
            "  7441.053    3044.2133   4189.1131   7640.3092  15555.18875 17904.52705\n",
            " 14394.5579  16586.49771 40904.1995   9634.538   58571.07448 24873.3849\n",
            " 23045.56616  7623.518    4827.90495 21344.8467   7152.6714   6311.952\n",
            "  1769.53165  1632.03625 21472.4788   4433.9159   1146.7966  33750.2918\n",
            "  3268.84665  2464.6188   3201.24515 40720.55105  9855.1314   3392.3652\n",
            "  5920.1041  16657.71745  3490.5491  48675.5177  52590.82939 11879.10405\n",
            " 17043.3414   9722.7695  45863.205    6389.37785  2055.3249   2710.82855\n",
            " 14394.39815 11743.9341   2104.1134  41999.52     9563.029   27117.99378\n",
            "  1837.237   36950.2567   5458.04645  4500.33925 14256.1928  14692.66935\n",
            " 19199.944    1832.094   11482.63485  6457.8434  48517.56315  6799.458\n",
            " 42111.6647  15820.699   13429.0354  19521.9682   9432.9253   8211.1002\n",
            " 11033.6617   4449.462   11729.6795   3847.674    6238.298    2045.68525\n",
            " 23244.7902  55135.40209 11264.541    7371.772    1708.92575  6686.4313\n",
            "  9414.92     1727.54    11150.78     2302.3     24915.22085 22218.1149\n",
            " 12475.3513  16577.7795  10269.46     4005.4225   7160.094    2203.73595\n",
            "  6113.23105 10096.97    14235.072    3021.80915  6196.448    1702.4553\n",
            "  1694.7964   1253.936   18246.4955  39725.51805 44641.1974   1727.785\n",
            " 11566.30055 29141.3603   8978.1851  23967.38305  2585.85065  6796.86325\n",
            " 11848.141    2731.9122   8871.1517  46151.1245   7742.1098   9866.30485\n",
            "  5934.3798  62592.87309  6082.405   38511.6283   4906.40965  4399.731\n",
            "  2352.96845  4877.98105 47928.03    17081.08    27037.9141   9910.35985\n",
            " 11289.10925 11381.3254   5003.853    5974.3847  12913.9924   9704.66805\n",
            "  2741.948    2156.7518   5584.3057   7153.5539  10942.13205  7626.993\n",
            "  1639.5631   9447.25035 19594.80965  2026.9741   2254.7967   3070.8087\n",
            "  7954.517    9625.92    47055.5321   6548.19505 12430.95335  8125.7845\n",
            "  8219.2039   2913.569   18765.87545  6356.2707  28468.91901 27941.28758\n",
            "  7418.522    7441.501   10381.4787  34779.615   11945.1327   5002.7827\n",
            "  2138.0707   8606.2174   9264.797   12142.5786   7985.815    1532.4697\n",
            " 12950.0712  16884.924    4350.5144  15230.32405  8534.6718   2207.69745\n",
            " 33907.548   23065.4207   8334.5896   6117.4945  13770.0979  21259.37795\n",
            "  2150.469    7147.4728  40974.1649   8334.45755  2497.0383  35491.64\n",
            " 10065.413   11842.62375  8930.93455  5425.02335  1633.0444   6551.7501\n",
            "  2261.5688   8442.667    6849.026   19442.3535  38998.546    2897.3235\n",
            " 20709.02034  6666.243    2438.0552   5729.0053  47403.88    12244.531\n",
            " 43813.8661  10325.206    3594.17085 44585.45587  8516.829   26236.57997\n",
            "  6067.12675 32734.1863  45008.9555   4518.82625  7749.1564  48549.17835\n",
            "  2130.6759  12363.547    3309.7926  19719.6947   7151.092   14418.2804\n",
            " 10959.6947  13126.67745 42760.5022  10796.35025  1743.214   12129.61415\n",
            "  2416.955   14313.8463   3558.62025 42856.838   18157.876   10197.7722\n",
            "  8539.671   23288.9284  12479.70895 40103.89    43578.9394   5028.1466\n",
            " 24603.04837  2534.39375 39722.7462   1136.3994   5415.6612   6474.013\n",
            " 43753.33705 12044.342    1635.73365  8347.1643   3561.8889  13981.85035\n",
            "  2867.1196   5910.944    8116.68    10602.385    8277.523    6948.7008\n",
            " 38344.566    4751.07    18033.9679  13390.559    4536.259    3861.20965\n",
            " 39836.519    1728.897    5267.81815  7256.7231  18328.2381  34166.273\n",
            " 10797.3362   5148.5526  36189.1017  11356.6609   2457.21115  1725.5523\n",
            " 63770.42801  5926.846   12124.9924   2632.992  ]\n"
          ],
          "name": "stdout"
        }
      ]
    }
  ]
}